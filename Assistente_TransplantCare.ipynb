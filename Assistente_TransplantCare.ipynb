{
  "nbformat": 4,
  "nbformat_minor": 0,
  "metadata": {
    "colab": {
      "provenance": []
    },
    "kernelspec": {
      "name": "python3",
      "display_name": "Python 3"
    },
    "language_info": {
      "name": "python"
    }
  },
  "cells": [
    {
      "cell_type": "code",
      "source": [
        "!pip install -q -U google-generativeai\n",
        "!pip install -q googlesearch-Python"
      ],
      "metadata": {
        "collapsed": true,
        "id": "BhmyhOzMbULt"
      },
      "execution_count": 11,
      "outputs": []
    },
    {
      "cell_type": "code",
      "source": [
        "import google.generativeai as genai\n",
        "from google.colab import userdata # Importa a função para acessar secrets\n",
        "\n",
        "# Carrega a chave da API do Colab Secrets\n",
        "try:\n",
        "    API_KEY = userdata.get('API_KEY')\n",
        "    genai.configure(api_key = API_KEY)\n",
        "    print(\"API Key configurada com sucesso!\")\n",
        "\n",
        "except Exception as e:\n",
        "    print(f\"Erro ao configurar a API Key. Verifique se ela está salva nos Secrets do Cloab com o nome 'API_KEY. Erro: {e}\")"
      ],
      "metadata": {
        "colab": {
          "base_uri": "https://localhost:8080/"
        },
        "id": "NmV1RQ4GuszO",
        "outputId": "7a08facc-5266-4c18-9b36-09b758bf9b71"
      },
      "execution_count": 2,
      "outputs": [
        {
          "output_type": "stream",
          "name": "stdout",
          "text": [
            "API Key configurada com sucesso!\n"
          ]
        }
      ]
    },
    {
      "cell_type": "code",
      "source": [
        "# Instancia o modelo que vamos usar\n",
        "\n",
        "model = genai.GenerativeModel(\n",
        "    model_name = 'gemini-2.0-flash',\n",
        "    tools = tools_description # <-- Passamos TODAS as ferramentas AQUI!\n",
        "    )\n",
        "print(f\"Modelo '{model.model_name}' instanciado com sucesso!\")"
      ],
      "metadata": {
        "colab": {
          "base_uri": "https://localhost:8080/"
        },
        "id": "o6eoDmD1xPXR",
        "outputId": "a6e6c51a-6ee5-4934-c92c-cff14d356956"
      },
      "execution_count": 17,
      "outputs": [
        {
          "output_type": "stream",
          "name": "stdout",
          "text": [
            "Modelo 'models/gemini-2.0-flash' instanciado com sucesso!\n"
          ]
        }
      ]
    },
    {
      "cell_type": "code",
      "source": [
        "# Cria lista na memória\n",
        "lista_lembretes = []"
      ],
      "metadata": {
        "id": "9U9i0DRTFo_B"
      },
      "execution_count": 21,
      "outputs": []
    },
    {
      "cell_type": "code",
      "source": [
        "# Cria função adicionar lembrete\n",
        "def adicionar_lembrete_func(tarefa: str, horario: str, data: str = None):\n",
        "    \"\"\"Adiciona um lembrete para o paciente sobre uma tarefa médica ou compromisso.\"\"\"\n",
        "    lembrete_str = f\"Lembrete: {tarefa} às {horario}\"\n",
        "    if data:\n",
        "        lembrete_str += f\" em {data}\"\n",
        "    # Adiciona à lista\n",
        "    lista_lembretes.append(lembrete_str)\n",
        "    print(f\"\\nDEBUG: Função 'adicionar_lembrete_func' executada. Lembrete: '{lembrete_str}'\")\n",
        "\n",
        "    # Retorna uma confirmação para a IA usar na resposta final\n",
        "    return f\"Lembrete para '{tarefa}' anotado com sucesso.\"\n",
        "\n",
        "    # --- Ferramenta de busca na Internet ---\n",
        "    from googlesearch import search  # Importa a função de busca\n",
        "\n",
        "def buscar_na_internet_func(query: str):\n",
        "      \"\"\"Busca informações na internet usando a consulta fornecida.\"\"\"\n",
        "      print(f\"\\nDebug: Função 'buscar_na_internet_func' executada com query: '{query}'\")\n",
        "      try:\n",
        "        # Realiza a busca (linita para os 5 primeiros resultados, timeout de 5 segundos)\n",
        "        # O stop=5 significa para após encontrar 5 resultados.\n",
        "        search_results = list(search(query, num_results = 5, timeout = 5))\n",
        "        if not search_results:\n",
        "          return\"Nenhum resultado encontrado na internet para sua busca.\"\n",
        "\n",
        "     # Formata os resultados para enviar para a IA\n",
        "        # Vamos enviar uma lista simples de URLs e talvez um snippet se a biblioteca fornecer\n",
        "        formatted_results = \"Resultados da busca:\\n\"\n",
        "        for i, result in enumerate(search_results):\n",
        "             # A biblioteca googlesearch retorna apenas URLs, não snippets diretamente em todos os casos simples\n",
        "             formatted_results += f\"{i+1}. {result}\\n\"\n",
        "\n",
        "        # Limita o tamanho do resultado para não estourar o limite de tokens da IA\n",
        "        if len(formatted_results) > 1500:\n",
        "             formatted_results = formatted_results[:1500] + \"...\" # Trunca se for muito longo\n",
        "\n",
        "\n",
        "        return formatted_results\n",
        "\n",
        "      except Exception as e:\n",
        "        print(f\"DEBUG: Erro ao executar busca na internet: {e}\")\n",
        "        return f\"Ocorreu um erro ao buscar na internet: {e}\"\n",
        "\n",
        "# --- ATUALIZAR dictionary tools_available ---\n",
        "# Mapeia os nomes das ferramentas (como a IA vai \"pedir\") para as funções Python reais\n",
        "tools_available = {\n",
        "    \"adicionar_lembrete\": adicionar_lembrete_func,\n",
        "    \"buscar_na_internet\": buscar_na_internet_func, # Adicionamos a nova ferramenta aqui!\n",
        "}\n",
        "\n",
        "print(\"Funções (ferramentas) definidas.\")\n"
      ],
      "metadata": {
        "colab": {
          "base_uri": "https://localhost:8080/"
        },
        "id": "NQw3bVWfF_PN",
        "outputId": "f6586006-6d3b-4386-bb2f-00a618d031e2"
      },
      "execution_count": 15,
      "outputs": [
        {
          "output_type": "stream",
          "name": "stdout",
          "text": [
            "Funções (ferramentas) definidas.\n"
          ]
        }
      ]
    },
    {
      "cell_type": "code",
      "source": [
        "# Descrição das Ferramentas para passar para a API do Gemini\n",
        "tools_description = [\n",
        "    {\n",
        "        \"function_declarations\": [\n",
        "            {\n",
        "                \"name\": \"adicionar_lembrete\", # O nome EXATO da chave no dictionary tools_available (em Célula 4)\n",
        "                \"description\": \"Adiciona um lembrete para o paciente sobre uma tarefa médica ou compromisso, incluindo o que lembrar, horário e data (se especificada).\",\n",
        "                \"parameters\": {\n",
        "                    \"type\": \"object\",\n",
        "                    \"properties\": {\n",
        "                        \"tarefa\": {\n",
        "                            \"type\": \"string\",\n",
        "                            \"description\": \"A descrição clara e concisa da tarefa a ser lembrada (ex: tomar remédio, consulta com nefrologista, fazer exame de sangue).\"\n",
        "                        },\n",
        "                        \"horario\": {\n",
        "                            \"type\": \"string\",\n",
        "                            \"description\": \"O horário específico do lembrete na linguagem do usuário (ex: 8 da manhã, 14:30, meio-dia). Tente extrair o mais preciso possível.\"\n",
        "                        },\n",
        "                         \"data\": {\n",
        "                            \"type\": \"string\",\n",
        "                            \"description\": \"A data do lembrete se for para um dia específico diferente de hoje (ex: amanhã, segunda-feira, 25 de dezembro). Opcional.\",\n",
        "                            \"nullable\": True # Indica que este parâmetro é opcional\n",
        "                        }\n",
        "                    },\n",
        "                    \"required\": [\"tarefa\", \"horario\"] # Campos obrigatórios que a IA DEVE tentar extrair\n",
        "                }\n",
        "            },\n",
        "\n",
        "\n",
        "            # --- NOVA DESCRIÇÃO DE FERRAMENTA: Buscar na Internet ---\n",
        "            {\n",
        "                \"name\": \"buscar_na_internet\", # Nome EXATO da chave em tools_available\n",
        "                \"description\": \"Busca informações gerais na internet sobre um tópico específico. Use para responder perguntas sobre eventos recentes, fatos específicos, definições, ou qualquer coisa que não esteja no conhecimento geral do assistente ou exija dados atualizados.\",\n",
        "                \"parameters\": {\n",
        "                    \"type\": \"object\",\n",
        "                    \"properties\": {\n",
        "                        \"query\": {\n",
        "                            \"type\": \"string\",\n",
        "                            \"description\": \"A consulta de busca clara e concisa a ser usada para encontrar a informação relevante.\"\n",
        "                        }\n",
        "                    },\n",
        "                    \"required\": [\"query\"] # A IA DEVE fornecer uma consulta para a busca\n",
        "                }\n",
        "            }\n",
        "            # Adicionar descrições de outras ferramentas aqui\n",
        "        ]\n",
        "    }\n",
        "]\n",
        "\n",
        "print(\"Descrição das ferramentas (agora incluindo busca) criada.\")"
      ],
      "metadata": {
        "colab": {
          "base_uri": "https://localhost:8080/"
        },
        "id": "IDoR1gk1Tgks",
        "outputId": "3adec5e8-2f0b-427e-e4d6-9b0a7eb2d677"
      },
      "execution_count": 16,
      "outputs": [
        {
          "output_type": "stream",
          "name": "stdout",
          "text": [
            "Descrição das ferramentas (agora incluindo busca) criada.\n"
          ]
        }
      ]
    },
    {
      "cell_type": "code",
      "source": [
        "# Instrução do Sistema (persona geral)\n",
        "system_instruction_text = \"\"\"Você é um assistente pessoal prestativo e informativo para pacientes que passaram por um transpalnte de órgão. Sua principal funçao é fornecer informações gerais sobre cuidados pós-transpalnte e ajudar a gerenciar lembretes. Minhas informações NÂO substituem aconselhamento médico profissional.\"\"\"\n"
      ],
      "metadata": {
        "id": "yys3WLDB3U5E"
      },
      "execution_count": 7,
      "outputs": []
    },
    {
      "cell_type": "code",
      "source": [
        "# Iniciamos o chat passando a instrução do sistema no history e as descrições das ferramentas.\n",
        "\n",
        "# Instrução do Sistema (persona geral) - Certifique-se que esta variável foi definida na célula anterior\n",
        "system_instruction_text = \"\"\"Você é um assistente pessoal prestativo e informativo para pacientes que passaram por um transplante de órgão. Sua principal função é fornecer informações gerais sobre cuidados pós-transplante e ajudar a gerenciar lembretes.\n",
        "\n",
        "Regras Importantes:\n",
        "1. Sempre reforce que suas informações NÃO substituem o aconselhamento médico profissional.\n",
        "2. Use as ferramentas disponíveis quando apropriado para ajudar o paciente (por exemplo, use a ferramenta de lembrete quando for solicitado a anotar algo).\n",
        "3. Se não puder ajudar com as ferramentas disponíveis ou com informação geral, diga isso educadamente.\n",
        "\"\"\"\n",
        "\n",
        "# Certifique-se que a lista tools_description foi definida na Célula 5\n",
        "# tools_description = [...]\n",
        "\n",
        "try:\n",
        "    # Corrigido: model.start_chat (com 's' e 't')\n",
        "    # Corrigido: Indentação de tools_config\n",
        "    chat = model.start_chat(\n",
        "        history=[{\"role\": \"system\", \"parts\": [system_instruction_text]}],\n",
        "        tools=tools_description,\n",
        "        tools_config={\"function_calling_config\": \"ANY\"} # Alinhado com os outros parâmetros\n",
        "    )\n",
        "    print(\"\\nChat iniciado com instrução do sistema e ferramentas.\")\n",
        "except Exception as e:\n",
        "     print(f\"Erro ao iniciar o chat com ferramentas. Detalhe: {e}\")\n",
        "     # Se der erro aqui, pode ser problema com a API ou o nome das ferramentas/parametros na descrição (menos provável agora)."
      ],
      "metadata": {
        "colab": {
          "base_uri": "https://localhost:8080/"
        },
        "id": "jU0_W94utDHd",
        "outputId": "b3201ad7-837a-4ca1-a185-88d5d754ea59"
      },
      "execution_count": 8,
      "outputs": [
        {
          "output_type": "stream",
          "name": "stdout",
          "text": [
            "Erro ao iniciar o chat com ferramentas. Detalhe: GenerativeModel.start_chat() got an unexpected keyword argument 'tools'\n"
          ]
        }
      ]
    },
    {
      "cell_type": "code",
      "source": [
        "# Célula 7: Loop Principal de Conversa com Lógica de Chamada de Função (Incluindo Busca)\n",
        "print(\"\\n--- Assistente Pronto! Digite 'sair' para encerrar. ---\")\n",
        "\n",
        "while True: # Cria um loop infinito para a conversa\n",
        "    user_input = input(\"Você: \") # Pede a entrada do usuário\n",
        "\n",
        "    if user_input.lower() == \"sair\": # Adiciona uma forma de sair do chat\n",
        "        print(\"Assistente: Encerrando o chat. Cuide-se!\")\n",
        "        # Opcional: Mostrar lembretes agendados ao sair\n",
        "        if lista_lembretes:\n",
        "             print(\"\\nLembretes agendados:\")\n",
        "             for l in lista_lembretes:\n",
        "                 print(f\"- {l}\")\n",
        "        break # Sai do loop\n",
        "\n",
        "    try:\n",
        "        # Envia a mensagem do usuário para o chat (a IA pode responder com texto OU uma chamada de função)\n",
        "        response = chat.send_message(user_input)\n",
        "\n",
        "        # --- Lógica de Orquestração: Verifica a resposta do modelo ---\n",
        "\n",
        "        # 1. Verifica se a IA pediu para executar uma função\n",
        "        if response.function_calls:\n",
        "            print(\"DEBUG: IA solicitou chamada(s) de função.\")\n",
        "\n",
        "            # Executa cada chamada de função que a IA solicitou (geralmente será uma por vez)\n",
        "            for fc in response.function_calls:\n",
        "                tool_name = fc.name # Nome da função que a IA quer chamar (ex: \"adicionar_lembrete\", \"buscar_na_internet\")\n",
        "                tool_args = fc.args # Argumentos que a IA extraiu (dicionário, ex: {'tarefa': '...'} ou {'query': '...'})\n",
        "\n",
        "                if tool_name in tools_available:\n",
        "                    print(f\"DEBUG: Executando ferramenta: '{tool_name}' com args: {tool_args}\")\n",
        "                    try:\n",
        "                        # --- Executar a Ferramenta Real (sua função Python) ---\n",
        "                        # Encontra a função Python correspondente e a chama\n",
        "                        # Usamos **tool_args para passar os argumentos do dicionário para os parâmetros da função\n",
        "                        tool_result = tools_available[tool_name](**tool_args)\n",
        "\n",
        "                        print(f\"DEBUG: Resultado da ferramenta '{tool_name}': '{tool_result}'\")\n",
        "\n",
        "                        # --- Enviar o Resultado da Ferramenta de Volta para a IA ---\n",
        "                        # Isso é CRUCIAL. Permite que a IA saiba que a ferramenta rodou e qual foi o resultado,\n",
        "                        # para então gerar a resposta final para o usuário.\n",
        "                        response_from_tool = chat.send_message(\n",
        "                            {\"role\": \"tool\", # Indica que esta mensagem é a resposta DA FERRAMENTA\n",
        "                             \"parts\": [{\"functionResponse\": {\"name\": tool_name, \"response\": {\"content\": tool_result}}}]} # Formato esperado pela API\n",
        "                        )\n",
        "\n",
        "                        # --- Obter a Resposta Final da IA para o Usuário ---\n",
        "                        # A resposta final (que usou o resultado da ferramenta para formular a resposta)\n",
        "                        if response_from_tool.text:\n",
        "                             print(f\"Assistente: {response_from_tool.text}\")\n",
        "                        else:\n",
        "                             print(\"Assistente: OK. Ação realizada ou informação obtida.\") # Confirmação genérica\n",
        "\n",
        "                    except Exception as ex_func:\n",
        "                        error_message = f\"Erro ao executar a ferramenta '{tool_name}'. Detalhe: {ex_func}\"\n",
        "                        print(f\"DEBUG: {error_message}\")\n",
        "                        print(f\"Assistente: Desculpe, tive um problema ao tentar executar a ação solicitada ({tool_name}).\")\n",
        "\n",
        "\n",
        "                else:\n",
        "                    # 2. A IA pediu uma ferramenta que definimos, mas o nome não bate com tools_available? (Raro)\n",
        "                    print(f\"DEBUG: IA solicitou ferramenta desconhecida em tools_available: {tool_name}\")\n",
        "                    print(f\"Assistente: Desculpe, não consigo realizar essa ação solicitada ({tool_name}).\")\n",
        "\n",
        "\n",
        "        # 3. Se a IA NÃO pediu função, ela respondeu apenas com texto direto\n",
        "        elif response.text:\n",
        "            print(\"DEBUG: IA respondeu apenas com texto.\")\n",
        "            print(f\"Assistente: {response.text}\")\n",
        "\n",
        "        # 4. Outro tipo de resposta ou resposta vazia\n",
        "        else:\n",
        "             print(\"DEBUG: Resposta da IA vazia ou inesperada.\")\n",
        "             print(\"Assistente: Não consegui obter uma resposta válida no momento.\")\n",
        "\n",
        "\n",
        "    except Exception as e:\n",
        "        print(f\"DEBUG: Erro geral no processamento da resposta: {e}\")\n",
        "        print(f\"Assistente: Ocorreu um erro ao processar sua mensagem. Por favor, tente novamente. Erro: {e}\")\n",
        "\n",
        "# --- Fim do Loop ---"
      ],
      "metadata": {
        "colab": {
          "base_uri": "https://localhost:8080/"
        },
        "id": "F8Tzv34Z5xUC",
        "outputId": "42ebd886-0730-428f-fc4f-07d23eb8fa49"
      },
      "execution_count": 23,
      "outputs": [
        {
          "output_type": "stream",
          "name": "stdout",
          "text": [
            "\n",
            "--- Assistente Pronto! Digite 'sair' para encerrar. ---\n",
            "Você: rejeição\n",
            "DEBUG: Erro geral no processamento da resposta: name 'chat' is not defined\n",
            "Assistente: Ocorreu um erro ao processar sua mensagem. Por favor, tente novamente. Erro: name 'chat' is not defined\n",
            "Você: sair\n",
            "Assistente: Encerrando o chat. Cuide-se!\n"
          ]
        }
      ]
    }
  ]
}